{
 "cells": [
  {
   "cell_type": "markdown",
   "id": "99ede008",
   "metadata": {},
   "source": [
    "MIPS Computer Literacy Bootcamp: Coding Project "
   ]
  },
  {
   "cell_type": "code",
   "execution_count": null,
   "id": "69e07154",
   "metadata": {},
   "outputs": [],
   "source": [
    "#Viewing the original image – littledude.jpg (he is just a little dude)\n",
    "#Chatgpt suggested using PIL and matplotlib to import and display the image\n",
    "\n",
    "from PIL import Image\n",
    "import matplotlib.pyplot as plt\n",
    "\n",
    "#Loading littledude.jpg\n",
    "img = Image.open(\"littledude.jpg\")\n",
    "\n",
    "#Viewing littledude.jpg in the notebook\n",
    "plt.imshow(img)\n",
    "plt.axis('off')  # Hides the axes\n",
    "plt.title('Original Image', color='black', fontsize=12)\n",
    "plt.show()\n"
   ]
  },
  {
   "cell_type": "code",
   "execution_count": null,
   "id": "04399453",
   "metadata": {},
   "outputs": [],
   "source": [
    "#Resizing littledude.jpg to 500 x 500 pixels and converting from colour to greyscale\n",
    "#Chatgpt suggested using PIL for image processing\n",
    "\n",
    "from PIL import Image\n",
    "import matplotlib.pyplot as plt\n",
    "\n",
    "#Loading the image\n",
    "img = Image.open('littledude.jpg')\n",
    "\n",
    "#Converting the image to greyscale ('L' mode = 8-bit pixels, black and white)\n",
    "img_gray = img.convert('L')\n",
    "\n",
    "#Resizing the image to 500 x 500 pixels\n",
    "img_resized = img_gray.resize((500, 500))\n",
    "\n",
    "#Saving the greyscaled and resized image\n",
    "img_resized.save('littledude_500x500_greyscale.png')\n",
    "\n",
    "#Viewing the greyscaled and resized image\n",
    "plt.imshow(img_resized, cmap='gray')\n",
    "plt.axis('off')\n",
    "plt.title('Greyscale Image', color='black', fontsize=12)\n",
    "plt.show()\n",
    "\n",
    "\n"
   ]
  },
  {
   "cell_type": "code",
   "execution_count": null,
   "id": "0c686e90",
   "metadata": {},
   "outputs": [],
   "source": [
    "#Blurring the littledude_500x500_greyscale.png using a box blur filter \n",
    "#Chatgpt suggested using PIL for blurring the littledude_500x500_greyscale.png\n",
    "\n",
    "from PIL import Image, ImageFilter\n",
    "import matplotlib.pyplot as plt\n",
    "\n",
    "img = Image.open('littledude_500x500_greyscale.png')\n",
    "img_blurred = img.filter(ImageFilter.BoxBlur(radius=5))\n",
    "\n",
    "#Saving theb blurred image\n",
    "img_blurred.save('blurred_littledude_500x500_greyscale.png')\n",
    "\n",
    "#Viewing the blurred image\n",
    "plt.imshow(img_blurred, cmap='gray')\n",
    "plt.axis('off')\n",
    "plt.title('Blurred Image', color='black', fontsize=12)\n",
    "plt.show()\n",
    "\n"
   ]
  },
  {
   "cell_type": "code",
   "execution_count": null,
   "id": "3454128e",
   "metadata": {},
   "outputs": [],
   "source": [
    "#Calculating a greyscale histogram for the original and blurred images and performing statistical analysis\n",
    "#ChatGPT suggested this step \n",
    "\n",
    "from PIL import Image\n",
    "import numpy as np\n",
    "import matplotlib.pyplot as plt\n",
    "from scipy.stats import ks_2samp\n",
    "\n",
    "#Loading the greyscale and blurred images\n",
    "img = Image.open('littledude_500x500_greyscale.png')\n",
    "blurred = Image.open('blurred_littledude_500x500_greyscale.png')\n",
    "\n",
    "#Converting the images to numpy arrays\n",
    "img_pixels = np.array(img).flatten()\n",
    "blurred_pixels = np.array(blurred).flatten()\n",
    "\n",
    "#Performing Kolmogorov-Smirnov test\n",
    "#This test was suggest by chatgpt\n",
    "ks_stat, p_value = ks_2samp(img_pixels, blurred_pixels)\n",
    "\n",
    "#Printing results\n",
    "print(f\"KS statistic: {ks_stat:.4f}\")\n",
    "print(f\"P-value: {p_value:.4e}\")\n",
    "\n",
    "#Plotting histogram comparison of gresyscale and blurred images\n",
    "hist_orig, bins = np.histogram(img_pixels, bins=256, range=(0,255), density=True)\n",
    "hist_blurred, _ = np.histogram(blurred_pixels, bins=256, range=(0,255), density=True)\n",
    "\n",
    "plt.figure(figsize=(10,6))\n",
    "plt.hist(img_pixels, bins=256, range=(0,255), color='blue', alpha=0.5, label='Original')\n",
    "plt.hist(blurred_pixels, bins=256, range=(0,255), color='red', alpha=0.5, label='Blurred')\n",
    "plt.title('Greyscale Histogram Comparison')\n",
    "plt.xlabel('Pixel Intensity')\n",
    "plt.ylabel('Normalized Frequency')\n",
    "plt.legend()\n",
    "plt.grid(True)\n",
    "plt.show()\n"
   ]
  },
  {
   "cell_type": "code",
   "execution_count": null,
   "id": "55c0ba84",
   "metadata": {},
   "outputs": [],
   "source": [
    "#Resizing an image to 250 x 250 pixels and saving final image\n",
    "from PIL import Image\n",
    "import matplotlib.pyplot as plt\n",
    "\n",
    "#Loading the blurred image\n",
    "img = Image.open('blurred_littledude_500x500_greyscale.png')\n",
    "\n",
    "#Resizing the blurred image to 250 x 250 pixels\n",
    "img_resized_2 = img.resize((250, 250))\n",
    "\n",
    "#Saving the final image\n",
    "img_resized_2.save('blurred_littledude_250x250_greyscale.png')\n",
    "\n",
    "#Viewing the processed image\n",
    "plt.imshow(img_resized_2, cmap='gray')\n",
    "plt.axis('off')\n",
    "plt.title('Final Image', color='black', fontsize=12)\n",
    "plt.show()"
   ]
  },
  {
   "cell_type": "code",
   "execution_count": null,
   "id": "4103b09e",
   "metadata": {},
   "outputs": [],
   "source": [
    "#Hope this works + hope you enjoyed littledude.jpg\n",
    "#GoTeam"
   ]
  }
 ],
 "metadata": {
  "kernelspec": {
   "display_name": "bootcamp",
   "language": "python",
   "name": "python3"
  },
  "language_info": {
   "codemirror_mode": {
    "name": "ipython",
    "version": 3
   },
   "file_extension": ".py",
   "mimetype": "text/x-python",
   "name": "python",
   "nbconvert_exporter": "python",
   "pygments_lexer": "ipython3",
   "version": "3.10.16"
  }
 },
 "nbformat": 4,
 "nbformat_minor": 5
}
